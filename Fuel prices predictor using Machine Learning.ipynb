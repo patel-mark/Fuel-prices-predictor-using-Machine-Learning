{
 "cells": [
  {
   "cell_type": "markdown",
   "id": "b4b2f0b1-3e55-4076-baff-a4bf7d7d68e4",
   "metadata": {},
   "source": [
    "# Business Problem: Developing a Predictive Pricing Model for the Kenyan Fuel Market\n",
    "\n",
    "<p><h5>Fuel prices in Kenya are often subject to fluctuations and inconsistencies, raising concerns about potential manipulation and unfair pricing practices. Consumers and regulators require insights into these dynamics for better transparency and market regulation.</h5></p>\r",
    "<p><h5>The objective is to utilize a Kenyan fuel prices dataset to develop a robust predictive pricing model. The focus is on creating a model that can forecast fuel prices accurately and independently of any manipulation.</h5></p>\n",
    "<p><img style=\"float: top;margin:5px 20px 5px 1px; min-width:90%, max-height:20px\" src=\"https://images.squarespace-cdn.com/content/v1/5acf87facc8fedbe1a9c205b/1523632453714-FACRKR4F8SRQD400SQRG/Lexo+Energy+petrol+fuel+station+Kenya+technology+3.jpg\"></p>p>"
   ]
  },
  {
   "cell_type": "markdown",
   "id": "3aa6f7fa-3e11-4ad7-ab57-991a8c056fe2",
   "metadata": {},
   "source": [
    "## Importing Libraries"
   ]
  },
  {
   "cell_type": "code",
   "execution_count": 1,
   "id": "b2f1d388-c75e-48d3-964b-e392bea23da5",
   "metadata": {},
   "outputs": [],
   "source": [
    "#importing libraries\n",
    "import pandas as pd\n",
    "import numpy as np\n",
    "import matplotlib.pyplot as plt\n",
    "import seaborn as sns\n",
    "import sklearn"
   ]
  },
  {
   "cell_type": "code",
   "execution_count": 2,
   "id": "966eb9fa-74e0-4084-a57a-b39577911a67",
   "metadata": {},
   "outputs": [
    {
     "data": {
      "text/html": [
       "<div>\n",
       "<style scoped>\n",
       "    .dataframe tbody tr th:only-of-type {\n",
       "        vertical-align: middle;\n",
       "    }\n",
       "\n",
       "    .dataframe tbody tr th {\n",
       "        vertical-align: top;\n",
       "    }\n",
       "\n",
       "    .dataframe thead th {\n",
       "        text-align: right;\n",
       "    }\n",
       "</style>\n",
       "<table border=\"1\" class=\"dataframe\">\n",
       "  <thead>\n",
       "    <tr style=\"text-align: right;\">\n",
       "      <th></th>\n",
       "      <th>Price Commencement Date</th>\n",
       "      <th>Premium Motor Spirit (PMS)/Super Petrol (KES/Litre)</th>\n",
       "      <th>Automotive Gas Oil (AGO)/Diesel (KES/Litre)</th>\n",
       "      <th>Illuminating Kerosene (IK)/Kerosene (KES/Litre)</th>\n",
       "      <th>Mean Exchange Rate</th>\n",
       "      <th>Murban Crude Oil Prices ($ per barrel)</th>\n",
       "      <th>Murban Crude Oil Prices (KES/Litre)</th>\n",
       "    </tr>\n",
       "  </thead>\n",
       "  <tbody>\n",
       "    <tr>\n",
       "      <th>0</th>\n",
       "      <td>15/12/2010</td>\n",
       "      <td>94.03</td>\n",
       "      <td>87.45</td>\n",
       "      <td>75.83</td>\n",
       "      <td>80.57</td>\n",
       "      <td>89.15</td>\n",
       "      <td>45.18</td>\n",
       "    </tr>\n",
       "    <tr>\n",
       "      <th>1</th>\n",
       "      <td>15/01/2011</td>\n",
       "      <td>95.67</td>\n",
       "      <td>88.71</td>\n",
       "      <td>77.51</td>\n",
       "      <td>81.03</td>\n",
       "      <td>89.17</td>\n",
       "      <td>45.45</td>\n",
       "    </tr>\n",
       "    <tr>\n",
       "      <th>2</th>\n",
       "      <td>15/02/2011</td>\n",
       "      <td>98.08</td>\n",
       "      <td>91.72</td>\n",
       "      <td>79.52</td>\n",
       "      <td>81.47</td>\n",
       "      <td>88.58</td>\n",
       "      <td>45.39</td>\n",
       "    </tr>\n",
       "    <tr>\n",
       "      <th>3</th>\n",
       "      <td>15/03/2011</td>\n",
       "      <td>102.44</td>\n",
       "      <td>94.53</td>\n",
       "      <td>83.97</td>\n",
       "      <td>84.21</td>\n",
       "      <td>102.86</td>\n",
       "      <td>54.48</td>\n",
       "    </tr>\n",
       "    <tr>\n",
       "      <th>4</th>\n",
       "      <td>15/04/2011</td>\n",
       "      <td>111.17</td>\n",
       "      <td>107.52</td>\n",
       "      <td>90.91</td>\n",
       "      <td>83.89</td>\n",
       "      <td>109.53</td>\n",
       "      <td>57.79</td>\n",
       "    </tr>\n",
       "  </tbody>\n",
       "</table>\n",
       "</div>"
      ],
      "text/plain": [
       "  Price Commencement Date  \\\n",
       "0              15/12/2010   \n",
       "1              15/01/2011   \n",
       "2              15/02/2011   \n",
       "3              15/03/2011   \n",
       "4              15/04/2011   \n",
       "\n",
       "   Premium Motor Spirit (PMS)/Super Petrol (KES/Litre)  \\\n",
       "0                                              94.03     \n",
       "1                                              95.67     \n",
       "2                                              98.08     \n",
       "3                                             102.44     \n",
       "4                                             111.17     \n",
       "\n",
       "   Automotive Gas Oil (AGO)/Diesel (KES/Litre)  \\\n",
       "0                                        87.45   \n",
       "1                                        88.71   \n",
       "2                                        91.72   \n",
       "3                                        94.53   \n",
       "4                                       107.52   \n",
       "\n",
       "    Illuminating Kerosene (IK)/Kerosene (KES/Litre)  Mean Exchange Rate  \\\n",
       "0                                             75.83               80.57   \n",
       "1                                             77.51               81.03   \n",
       "2                                             79.52               81.47   \n",
       "3                                             83.97               84.21   \n",
       "4                                             90.91               83.89   \n",
       "\n",
       "   Murban Crude Oil Prices ($ per barrel)  Murban Crude Oil Prices (KES/Litre)  \n",
       "0                                   89.15                                45.18  \n",
       "1                                   89.17                                45.45  \n",
       "2                                   88.58                                45.39  \n",
       "3                                  102.86                                54.48  \n",
       "4                                  109.53                                57.79  "
      ]
     },
     "execution_count": 2,
     "metadata": {},
     "output_type": "execute_result"
    }
   ],
   "source": [
    "#readibg data into a data frame\n",
    "df=pd.read_csv(r\"C:\\Users\\DATA-JOHN\\Desktop\\clone\\Fuel-prices-predictor-using-Machine-Learning\\Fuel Prices in Kenya since 2010 - Sheet1.csv\")\n",
    "\n",
    "df.head()"
   ]
  },
  {
   "cell_type": "markdown",
   "id": "350c0203-9bb6-45e1-89e5-0f7545391f80",
   "metadata": {},
   "source": [
    "## Data Exploration"
   ]
  },
  {
   "cell_type": "code",
   "execution_count": 3,
   "id": "0c1f0326-c755-4b2b-8abe-80288788c0ab",
   "metadata": {},
   "outputs": [],
   "source": [
    "#renaming columns\n",
    "df=df.rename(columns={'Premium Motor Spirit (PMS)/Super Petrol (KES/Litre)':'Super Petrol (KES/Litre)',\n",
    "                   'Automotive Gas Oil (AGO)/Diesel (KES/Litre)':'Diesel (KES/Litre)',\n",
    "                   ' Illuminating Kerosene (IK)/Kerosene (KES/Litre)':'Kerosene (KES/Litre)',\n",
    "                   'Murban Crude Oil Prices ($ per barrel)':'Crude Oil Prices ($ per barrel)',\n",
    "                   'Murban Crude Oil Prices (KES/Litre)':'Crude Oil Prices (KES/Litre)'})\n"
   ]
  },
  {
   "cell_type": "code",
   "execution_count": 4,
   "id": "a89361cb-0309-405a-a455-2b33bb19ee4f",
   "metadata": {},
   "outputs": [
    {
     "data": {
      "text/plain": [
       "Price Commencement Date            0\n",
       "Super Petrol (KES/Litre)           0\n",
       "Diesel (KES/Litre)                 0\n",
       "Kerosene (KES/Litre)               0\n",
       "Mean Exchange Rate                 1\n",
       "Crude Oil Prices ($ per barrel)    1\n",
       "Crude Oil Prices (KES/Litre)       1\n",
       "dtype: int64"
      ]
     },
     "execution_count": 4,
     "metadata": {},
     "output_type": "execute_result"
    }
   ],
   "source": [
    "#checking missing data\n",
    "df.isna().sum()"
   ]
  },
  {
   "cell_type": "code",
   "execution_count": 5,
   "id": "708bd0fb-63be-44c7-b79c-85915c712c86",
   "metadata": {},
   "outputs": [],
   "source": [
    "df=df.dropna()"
   ]
  },
  {
   "cell_type": "code",
   "execution_count": 6,
   "id": "2c4f9e44-5263-4bc3-b768-becdd67e5fd7",
   "metadata": {},
   "outputs": [
    {
     "data": {
      "text/plain": [
       "Price Commencement Date             object\n",
       "Super Petrol (KES/Litre)           float64\n",
       "Diesel (KES/Litre)                 float64\n",
       "Kerosene (KES/Litre)               float64\n",
       "Mean Exchange Rate                 float64\n",
       "Crude Oil Prices ($ per barrel)    float64\n",
       "Crude Oil Prices (KES/Litre)       float64\n",
       "dtype: object"
      ]
     },
     "execution_count": 6,
     "metadata": {},
     "output_type": "execute_result"
    }
   ],
   "source": [
    "#checking column data types\n",
    "df.dtypes"
   ]
  },
  {
   "cell_type": "code",
   "execution_count": 7,
   "id": "59ef13e8-e343-47e6-b0b2-597a02cce8b6",
   "metadata": {
    "scrolled": true
   },
   "outputs": [],
   "source": [
    "#changing the date column to date time format\n",
    "df['Price Commencement Date'] = pd.to_datetime(df['Price Commencement Date'], format='%d/%m/%Y')"
   ]
  },
  {
   "cell_type": "code",
   "execution_count": 8,
   "id": "429e24f0-2830-421c-9632-23358d8d731b",
   "metadata": {},
   "outputs": [
    {
     "data": {
      "text/plain": [
       "Price Commencement Date            datetime64[ns]\n",
       "Super Petrol (KES/Litre)                  float64\n",
       "Diesel (KES/Litre)                        float64\n",
       "Kerosene (KES/Litre)                      float64\n",
       "Mean Exchange Rate                        float64\n",
       "Crude Oil Prices ($ per barrel)           float64\n",
       "Crude Oil Prices (KES/Litre)              float64\n",
       "dtype: object"
      ]
     },
     "execution_count": 8,
     "metadata": {},
     "output_type": "execute_result"
    }
   ],
   "source": [
    "#checking column data types\n",
    "df.dtypes"
   ]
  },
  {
   "cell_type": "code",
   "execution_count": 9,
   "id": "d5e7383c-6d20-4233-8a8e-585c54f6429a",
   "metadata": {},
   "outputs": [
    {
     "data": {
      "image/png": "[encoded data removed]",
      "text/plain": [
       "<Figure size 640x480 with 2 Axes>"
      ]
     },
     "metadata": {},
     "output_type": "display_data"
    }
   ],
   "source": [
    "#checking columns correlation\n",
    "matrix = df.corr(numeric_only=True).round(2)\n",
    "sns.heatmap(matrix, annot=True)\n",
    "plt.show()\n"
   ]
  },
  {
   "cell_type": "code",
   "execution_count": 10,
   "id": "c4c934de-5240-4864-857d-ffa32ab3797c",
   "metadata": {},
   "outputs": [
    {
     "name": "stdout",
     "output_type": "stream",
     "text": [
      "Index(['Price Commencement Date', 'Super Petrol (KES/Litre)',\n",
      "       'Diesel (KES/Litre)', 'Kerosene (KES/Litre)', 'Mean Exchange Rate',\n",
      "       'Crude Oil Prices ($ per barrel)', 'Crude Oil Prices (KES/Litre)'],\n",
      "      dtype='object')\n"
     ]
    }
   ],
   "source": [
    "#printing all column names\n",
    "print(df.columns)"
   ]
  },
  {
   "cell_type": "code",
   "execution_count": 11,
   "id": "d840e243-2300-49b1-a56a-513fdcf4fde1",
   "metadata": {},
   "outputs": [
    {
     "data": {
      "text/html": [
       "<div>\n",
       "<style scoped>\n",
       "    .dataframe tbody tr th:only-of-type {\n",
       "        vertical-align: middle;\n",
       "    }\n",
       "\n",
       "    .dataframe tbody tr th {\n",
       "        vertical-align: top;\n",
       "    }\n",
       "\n",
       "    .dataframe thead th {\n",
       "        text-align: right;\n",
       "    }\n",
       "</style>\n",
       "<table border=\"1\" class=\"dataframe\">\n",
       "  <thead>\n",
       "    <tr style=\"text-align: right;\">\n",
       "      <th></th>\n",
       "      <th>Super Petrol (KES/Litre)</th>\n",
       "      <th>Diesel (KES/Litre)</th>\n",
       "      <th>Kerosene (KES/Litre)</th>\n",
       "      <th>Mean Exchange Rate</th>\n",
       "      <th>Crude Oil Prices ($ per barrel)</th>\n",
       "      <th>Crude Oil Prices (KES/Litre)</th>\n",
       "    </tr>\n",
       "  </thead>\n",
       "  <tbody>\n",
       "    <tr>\n",
       "      <th>count</th>\n",
       "      <td>156.000000</td>\n",
       "      <td>156.000000</td>\n",
       "      <td>156.000000</td>\n",
       "      <td>156.000000</td>\n",
       "      <td>156.000000</td>\n",
       "      <td>156.000000</td>\n",
       "    </tr>\n",
       "    <tr>\n",
       "      <th>mean</th>\n",
       "      <td>116.921795</td>\n",
       "      <td>105.686987</td>\n",
       "      <td>90.089872</td>\n",
       "      <td>102.175769</td>\n",
       "      <td>73.215897</td>\n",
       "      <td>46.676538</td>\n",
       "    </tr>\n",
       "    <tr>\n",
       "      <th>std</th>\n",
       "      <td>27.018611</td>\n",
       "      <td>25.624257</td>\n",
       "      <td>29.563883</td>\n",
       "      <td>15.491132</td>\n",
       "      <td>22.281470</td>\n",
       "      <td>15.268060</td>\n",
       "    </tr>\n",
       "    <tr>\n",
       "      <th>min</th>\n",
       "      <td>80.710000</td>\n",
       "      <td>65.700000</td>\n",
       "      <td>39.620000</td>\n",
       "      <td>80.570000</td>\n",
       "      <td>17.640000</td>\n",
       "      <td>11.850000</td>\n",
       "    </tr>\n",
       "    <tr>\n",
       "      <th>25%</th>\n",
       "      <td>101.275000</td>\n",
       "      <td>90.812500</td>\n",
       "      <td>71.420000</td>\n",
       "      <td>88.657500</td>\n",
       "      <td>54.160000</td>\n",
       "      <td>34.437500</td>\n",
       "    </tr>\n",
       "    <tr>\n",
       "      <th>50%</th>\n",
       "      <td>111.435000</td>\n",
       "      <td>103.250000</td>\n",
       "      <td>84.110000</td>\n",
       "      <td>101.385000</td>\n",
       "      <td>73.455000</td>\n",
       "      <td>45.940000</td>\n",
       "    </tr>\n",
       "    <tr>\n",
       "      <th>75%</th>\n",
       "      <td>118.207500</td>\n",
       "      <td>108.045000</td>\n",
       "      <td>102.032500</td>\n",
       "      <td>107.662500</td>\n",
       "      <td>93.612500</td>\n",
       "      <td>54.277500</td>\n",
       "    </tr>\n",
       "    <tr>\n",
       "      <th>max</th>\n",
       "      <td>217.360000</td>\n",
       "      <td>205.470000</td>\n",
       "      <td>205.060000</td>\n",
       "      <td>155.640000</td>\n",
       "      <td>117.530000</td>\n",
       "      <td>89.180000</td>\n",
       "    </tr>\n",
       "  </tbody>\n",
       "</table>\n",
       "</div>"
      ],
      "text/plain": [
       "       Super Petrol (KES/Litre)  Diesel (KES/Litre)  Kerosene (KES/Litre)  \\\n",
       "count                156.000000          156.000000            156.000000   \n",
       "mean                 116.921795          105.686987             90.089872   \n",
       "std                   27.018611           25.624257             29.563883   \n",
       "min                   80.710000           65.700000             39.620000   \n",
       "25%                  101.275000           90.812500             71.420000   \n",
       "50%                  111.435000          103.250000             84.110000   \n",
       "75%                  118.207500          108.045000            102.032500   \n",
       "max                  217.360000          205.470000            205.060000   \n",
       "\n",
       "       Mean Exchange Rate  Crude Oil Prices ($ per barrel)  \\\n",
       "count          156.000000                       156.000000   \n",
       "mean           102.175769                        73.215897   \n",
       "std             15.491132                        22.281470   \n",
       "min             80.570000                        17.640000   \n",
       "25%             88.657500                        54.160000   \n",
       "50%            101.385000                        73.455000   \n",
       "75%            107.662500                        93.612500   \n",
       "max            155.640000                       117.530000   \n",
       "\n",
       "       Crude Oil Prices (KES/Litre)  \n",
       "count                    156.000000  \n",
       "mean                      46.676538  \n",
       "std                       15.268060  \n",
       "min                       11.850000  \n",
       "25%                       34.437500  \n",
       "50%                       45.940000  \n",
       "75%                       54.277500  \n",
       "max                       89.180000  "
      ]
     },
     "execution_count": 11,
     "metadata": {},
     "output_type": "execute_result"
    }
   ],
   "source": [
    "df.describe()"
   ]
  },
  {
   "cell_type": "code",
   "execution_count": 12,
   "id": "67454a8c-b60e-4ac0-a5c3-dd471569e5d7",
   "metadata": {},
   "outputs": [],
   "source": [
    "# Extract the year from the datetime column\n",
    "df['Year'] = df['Price Commencement Date'].dt.year"
   ]
  },
  {
   "cell_type": "code",
   "execution_count": 13,
   "id": "c9a9e8c1-c179-44e3-915b-528c2d3cbd0e",
   "metadata": {},
   "outputs": [
    {
     "data": {
      "text/html": [
       "<div>\n",
       "<style scoped>\n",
       "    .dataframe tbody tr th:only-of-type {\n",
       "        vertical-align: middle;\n",
       "    }\n",
       "\n",
       "    .dataframe tbody tr th {\n",
       "        vertical-align: top;\n",
       "    }\n",
       "\n",
       "    .dataframe thead th {\n",
       "        text-align: right;\n",
       "    }\n",
       "</style>\n",
       "<table border=\"1\" class=\"dataframe\">\n",
       "  <thead>\n",
       "    <tr style=\"text-align: right;\">\n",
       "      <th></th>\n",
       "      <th>Super Petrol (KES/Litre)</th>\n",
       "      <th>Diesel (KES/Litre)</th>\n",
       "      <th>Kerosene (KES/Litre)</th>\n",
       "      <th>Mean Exchange Rate</th>\n",
       "      <th>Crude Oil Prices ($ per barrel)</th>\n",
       "      <th>Crude Oil Prices (KES/Litre)</th>\n",
       "    </tr>\n",
       "    <tr>\n",
       "      <th>Year</th>\n",
       "      <th></th>\n",
       "      <th></th>\n",
       "      <th></th>\n",
       "      <th></th>\n",
       "      <th></th>\n",
       "      <th></th>\n",
       "    </tr>\n",
       "  </thead>\n",
       "  <tbody>\n",
       "    <tr>\n",
       "      <th>2010</th>\n",
       "      <td>94.030000</td>\n",
       "      <td>87.450000</td>\n",
       "      <td>75.830000</td>\n",
       "      <td>80.570000</td>\n",
       "      <td>89.150000</td>\n",
       "      <td>45.180000</td>\n",
       "    </tr>\n",
       "    <tr>\n",
       "      <th>2011</th>\n",
       "      <td>112.640833</td>\n",
       "      <td>104.740000</td>\n",
       "      <td>87.433333</td>\n",
       "      <td>88.811667</td>\n",
       "      <td>94.874167</td>\n",
       "      <td>52.869167</td>\n",
       "    </tr>\n",
       "    <tr>\n",
       "      <th>2012</th>\n",
       "      <td>113.166667</td>\n",
       "      <td>104.539167</td>\n",
       "      <td>83.041667</td>\n",
       "      <td>84.543333</td>\n",
       "      <td>94.110833</td>\n",
       "      <td>50.017500</td>\n",
       "    </tr>\n",
       "    <tr>\n",
       "      <th>2013</th>\n",
       "      <td>112.334167</td>\n",
       "      <td>104.109167</td>\n",
       "      <td>83.582500</td>\n",
       "      <td>86.123333</td>\n",
       "      <td>97.905833</td>\n",
       "      <td>53.056667</td>\n",
       "    </tr>\n",
       "    <tr>\n",
       "      <th>2014</th>\n",
       "      <td>111.885000</td>\n",
       "      <td>102.065833</td>\n",
       "      <td>81.542500</td>\n",
       "      <td>87.922500</td>\n",
       "      <td>93.258333</td>\n",
       "      <td>51.480000</td>\n",
       "    </tr>\n",
       "  </tbody>\n",
       "</table>\n",
       "</div>"
      ],
      "text/plain": [
       "      Super Petrol (KES/Litre)  Diesel (KES/Litre)  Kerosene (KES/Litre)  \\\n",
       "Year                                                                       \n",
       "2010                 94.030000           87.450000             75.830000   \n",
       "2011                112.640833          104.740000             87.433333   \n",
       "2012                113.166667          104.539167             83.041667   \n",
       "2013                112.334167          104.109167             83.582500   \n",
       "2014                111.885000          102.065833             81.542500   \n",
       "\n",
       "      Mean Exchange Rate  Crude Oil Prices ($ per barrel)  \\\n",
       "Year                                                        \n",
       "2010           80.570000                        89.150000   \n",
       "2011           88.811667                        94.874167   \n",
       "2012           84.543333                        94.110833   \n",
       "2013           86.123333                        97.905833   \n",
       "2014           87.922500                        93.258333   \n",
       "\n",
       "      Crude Oil Prices (KES/Litre)  \n",
       "Year                                \n",
       "2010                     45.180000  \n",
       "2011                     52.869167  \n",
       "2012                     50.017500  \n",
       "2013                     53.056667  \n",
       "2014                     51.480000  "
      ]
     },
     "execution_count": 13,
     "metadata": {},
     "output_type": "execute_result"
    }
   ],
   "source": [
    "# Group by year and calculate the mean for numeric columns only\n",
    "grouped_df = df.groupby('Year').mean(numeric_only=True)\n",
    "\n",
    "grouped_df.head()"
   ]
  },
  {
   "cell_type": "code",
   "execution_count": 14,
   "id": "4ff961d3-6a24-4eba-bab7-1a03b7a07ca1",
   "metadata": {},
   "outputs": [],
   "source": [
    "#droping unnecessary columns\n",
    "df.drop(columns=[\"Price Commencement Date\",\"Diesel (KES/Litre)\", \"Kerosene (KES/Litre)\",\"Year\"], inplace=True)"
   ]
  },
  {
   "cell_type": "code",
   "execution_count": 15,
   "id": "aa96eb05-69f5-418c-9ed0-5a122b3ff482",
   "metadata": {},
   "outputs": [
    {
     "data": {
      "text/plain": [
       "Super Petrol (KES/Litre)           0\n",
       "Mean Exchange Rate                 0\n",
       "Crude Oil Prices ($ per barrel)    0\n",
       "Crude Oil Prices (KES/Litre)       0\n",
       "dtype: int64"
      ]
     },
     "execution_count": 15,
     "metadata": {},
     "output_type": "execute_result"
    }
   ],
   "source": [
    "#checking null values in the new dataframe columns\n",
    "df.isna().sum()"
   ]
  },
  {
   "cell_type": "markdown",
   "id": "e83907bb-3d93-40dd-af39-e0e735bdbb93",
   "metadata": {},
   "source": [
    "## Feature importance"
   ]
  },
  {
   "cell_type": "code",
   "execution_count": 16,
   "id": "4e251f19-3b43-47a3-a8e9-aef283c25970",
   "metadata": {},
   "outputs": [
    {
     "name": "stdout",
     "output_type": "stream",
     "text": [
      "rmae for Mean Exchange Rate: 3.780279993053204\n",
      "rmae for Crude Oil Prices ($ per barrel): 3.753049773107865\n",
      "rmae for Crude Oil Prices (KES/Litre): 3.097726152210238\n"
     ]
    }
   ],
   "source": [
    "from sklearn.linear_model import LinearRegression\n",
    "from sklearn.model_selection import train_test_split\n",
    "from sklearn.metrics import mean_absolute_error\n",
    "from sklearn import metrics\n",
    "\n",
    "\n",
    "x=df.drop(columns=\"Super Petrol (KES/Litre)\")\n",
    "y=df[\"Super Petrol (KES/Litre)\"]\n",
    "\n",
    "x_train,x_test,y_train,y_test=train_test_split(x,y,\n",
    "                                              test_size=0.2,\n",
    "                                              random_state=42)\n",
    "\n",
    "feature_performance={}\n",
    "\n",
    "for feature in ['Mean Exchange Rate','Crude Oil Prices ($ per barrel)', 'Crude Oil Prices (KES/Litre)']:\n",
    "    lr=LinearRegression()\n",
    "    lr.fit(x_train[[feature]],y_train)\n",
    "    y_pred=lr.predict(x_test[[feature]])\n",
    "    rmae = mean_absolute_error(y_test, y_pred)**(1/2)\n",
    "    print(f\"rmae for {feature}: {rmae}\")"
   ]
  },
  {
   "cell_type": "markdown",
   "id": "d2ac1b89-80fa-4e85-853f-af3acc6132a8",
   "metadata": {},
   "source": [
    "## Model Building using Ensemble learning"
   ]
  },
  {
   "cell_type": "code",
   "execution_count": 17,
   "id": "394b907b-968c-4f1f-a322-48ac008c4670",
   "metadata": {},
   "outputs": [
    {
     "data": {
      "image/png": "[encoded data removed]",
      "text/plain": [
       "<Figure size 640x480 with 1 Axes>"
      ]
     },
     "metadata": {},
     "output_type": "display_data"
    }
   ],
   "source": [
    "from sklearn.metrics import mean_squared_error as MSE\n",
    "from sklearn.model_selection import train_test_split\n",
    "from sklearn.tree import DecisionTreeRegressor\n",
    "from sklearn.linear_model import LinearRegression\n",
    "from sklearn.neighbors import KNeighborsRegressor\n",
    "from sklearn.ensemble import VotingRegressor\n",
    "from sklearn.preprocessing import StandardScaler\n",
    "from sklearn.model_selection import cross_val_score, KFold, train_test_split\n",
    "\n",
    "\n",
    "SEED=45\n",
    "\n",
    "x=df.drop('Super Petrol (KES/Litre)',axis=1).values\n",
    "y=df['Super Petrol (KES/Litre)'].values\n",
    "\n",
    "x_train,x_test,y_train,y_test=train_test_split(x,y,\n",
    "                                              test_size=0.2,\n",
    "                                              random_state=SEED)\n",
    "scaler=StandardScaler()\n",
    "x_train_scaled=scaler.fit_transform(x_train)\n",
    "x_test_scaled=scaler.transform(x_test)\n",
    "\n",
    "lr=LinearRegression()\n",
    "knn=KNeighborsRegressor()\n",
    "dt=DecisionTreeRegressor()\n",
    "\n",
    "regressors={\n",
    "    'Linear Regression':LinearRegression(),\n",
    "    'KNeighbors Regressor':KNeighborsRegressor(),\n",
    "    'Decision Tree Regressor':DecisionTreeRegressor()\n",
    "}\n",
    "\n",
    "regressors_vc=[('Linear Regression',lr),\n",
    "    ('KNeighbors Regressor',knn),\n",
    "    ('Decision Tree Regressor',dt)]\n",
    "\n",
    "results=[]\n",
    "\n",
    "for model in regressors.values():\n",
    "    kf=KFold(n_splits=6,random_state=SEED,shuffle=True)\n",
    "    cv_results=cross_val_score(model,x_train_scaled,y_train, cv=kf)\n",
    "    results.append(cv_results)\n",
    "\n",
    "sns.set(style=\"darkgrid\")\n",
    "plt.boxplot(results,labels=regressors.keys())\n",
    "plt.show()\n",
    "\n",
    "    "
   ]
  },
  {
   "cell_type": "markdown",
   "id": "b6107898-b923-4857-b761-cc8a03c013ab",
   "metadata": {},
   "source": [
    "## Model Evaluation"
   ]
  },
  {
   "cell_type": "code",
   "execution_count": 18,
   "id": "e8df99b5-f14e-4be5-8005-9be966a0f2b2",
   "metadata": {},
   "outputs": [
    {
     "name": "stdout",
     "output_type": "stream",
     "text": [
      "Linear Regression Test set Accuracy: 0.946\n",
      "KNeighbors Regressor Test set Accuracy: 0.942\n",
      "Decision Tree Regressor Test set Accuracy: 0.955\n"
     ]
    },
    {
     "data": {
      "image/png": "[encoded data removed]",
      "text/plain": [
       "<Figure size 640x480 with 1 Axes>"
      ]
     },
     "metadata": {},
     "output_type": "display_data"
    }
   ],
   "source": [
    "\n",
    "accuracies = {}  # Dictionary to store model names and corresponding test set accuracies\n",
    "\n",
    "for name, model in regressors.items():\n",
    "    model.fit(x_train_scaled, y_train)\n",
    "    test_score = model.score(x_test_scaled, y_test)\n",
    "    accuracies[name] = test_score  # Store the accuracy in the dictionary\n",
    "    print(\"{} Test set Accuracy: {:.3f}\".format(name, test_score))\n",
    "\n",
    "# Plotting the bar graph using Seaborn\n",
    "sns.set(style=\"darkgrid\")\n",
    "palette = sns.color_palette(\"tab10\", len(accuracies))  # Define a color palette for the bars\n",
    "ax = sns.barplot(x=list(accuracies.keys()), y=list(accuracies.values()), hue=list(accuracies.keys()), legend=False)\n",
    "\n",
    "# Add model scores at the top of each bar rounded to three decimal places\n",
    "for i, v in enumerate(accuracies.values()):\n",
    "    ax.text(i, v + 0.01, f'{v:.3f}', ha='center', va='bottom', fontsize=10, color='black')\n",
    "\n",
    "plt.xlabel('Regression Models')\n",
    "plt.ylabel('Test Set Accuracy')\n",
    "plt.title('Test Set Accuracy of Regression Models')\n",
    "plt.xticks(rotation=45, ha='right')  # Rotate x-axis labels for better visibility\n",
    "plt.tight_layout()\n",
    "plt.show()\n"
   ]
  },
  {
   "cell_type": "code",
   "execution_count": 19,
   "id": "282af863-d693-40b7-b450-26eab1aa6b55",
   "metadata": {},
   "outputs": [
    {
     "name": "stdout",
     "output_type": "stream",
     "text": [
      "Voting Regressor: 0.962\n"
     ]
    }
   ],
   "source": [
    "vc=VotingRegressor(estimators=regressors_vc)\n",
    "vc.fit(x_train_scaled,y_train)\n",
    "y_pred=vc.predict(x_test)\n",
    "\n",
    "print(\"Voting Regressor: {:.3f}\".format(vc.score(x_test_scaled, y_test)))"
   ]
  },
  {
   "cell_type": "markdown",
   "id": "404e75a1-8676-4af1-9fc8-b3f69f594d57",
   "metadata": {},
   "source": [
    "## Save the trained model using pickle"
   ]
  },
  {
   "cell_type": "code",
   "execution_count": 20,
   "id": "1d0b3eeb-e83a-447e-9678-a241aaadd030",
   "metadata": {},
   "outputs": [],
   "source": [
    "import pickle\n",
    "\n",
    "vc.fit(x_train_scaled, y_train)\n",
    "y_pred = vc.predict(x_test)\n",
    "\n",
    "# Save the trained model using pickle\n",
    "with open('voting_regressor_model.pkl', 'wb') as file:\n",
    "    pickle.dump(vc, file)"
   ]
  },
  {
   "cell_type": "markdown",
   "id": "98eeed9f-e1b6-4f30-8e06-e8c5b8700e57",
   "metadata": {},
   "source": [
    "## Testing the saved model."
   ]
  },
  {
   "cell_type": "code",
   "execution_count": 21,
   "id": "d6e571a5-1d95-40df-9526-f4c895b82990",
   "metadata": {},
   "outputs": [
    {
     "name": "stdout",
     "output_type": "stream",
     "text": [
      "Predicted Super Petrol (KES/Litre): 183.85068543985562\n"
     ]
    }
   ],
   "source": [
    "import pickle\n",
    "from sklearn.preprocessing import StandardScaler\n",
    "\n",
    "\n",
    "scaler = StandardScaler()\n",
    "x_train_scaled = scaler.fit_transform(x_train)\n",
    "\n",
    "\n",
    "with open('voting_regressor_model.pkl', 'wb') as file:\n",
    "    pickle.dump((vc, scaler), file)\n",
    "\n",
    "\n",
    "\n",
    "def predict_super_petrol(mean_exchange_rate, crude_oil_prices_usd_per_barrel, crude_oil_prices_kes_per_litre):\n",
    "    # Load the model and scaler\n",
    "    with open('voting_regressor_model.pkl', 'rb') as file:\n",
    "        loaded_model, loaded_scaler = pickle.load(file)\n",
    "\n",
    "    # Scale the input features using the loaded scaler\n",
    "    input_features = [[mean_exchange_rate,crude_oil_prices_usd_per_barrel, crude_oil_prices_kes_per_litre]]\n",
    "    input_features_scaled = loaded_scaler.transform(input_features)\n",
    "\n",
    "    # Make the prediction using the loaded model\n",
    "    predicted_super_petrol = loaded_model.predict(input_features_scaled)\n",
    "\n",
    "    return predicted_super_petrol[0]\n",
    "\n",
    "# Example usage:\n",
    "mean_exchange_rate_input = 140\n",
    "crude_oil_prices_usd_per_barrel_input = 85.56\n",
    "crude_oil_prices_kes_per_litre_input = 70.25\n",
    "predicted_super_petrol_value = predict_super_petrol(mean_exchange_rate_input,crude_oil_prices_usd_per_barrel_input, crude_oil_prices_kes_per_litre_input)\n",
    "print(f'Predicted Super Petrol (KES/Litre): {predicted_super_petrol_value}')\n"
   ]
  },
  {
   "cell_type": "code",
   "execution_count": null,
   "id": "7f12bcc4-6dbc-461d-9b5a-b35619e08123",
   "metadata": {},
   "outputs": [],
   "source": []
  }
 ],
 "metadata": {
  "kernelspec": {
   "display_name": "Python 3 (ipykernel)",
   "language": "python",
   "name": "python3"
  },
  "language_info": {
   "codemirror_mode": {
    "name": "ipython",
    "version": 3
   },
   "file_extension": ".py",
   "mimetype": "text/x-python",
   "name": "python",
   "nbconvert_exporter": "python",
   "pygments_lexer": "ipython3",
   "version": "3.10.0"
  }
 },
 "nbformat": 4,
 "nbformat_minor": 5
}

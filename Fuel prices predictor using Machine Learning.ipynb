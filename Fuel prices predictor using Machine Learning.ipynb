{
 "cells": [
  {
   "cell_type": "markdown",
   "id": "b4b2f0b1-3e55-4076-baff-a4bf7d7d68e4",
   "metadata": {},
   "source": [
    "## Business Problem: Identifying Fuel Price Manipulation and Price Gouging in Kenya\n",
    "<p><img style=\"float: top;margin:5px 20px 5px 1px; min-width:90%, max-height:20px\" src=\"https://netstorage-tuko.akamaized.net/images/93512322e14ef394.jpg\"></p>\n",
    "<p>Fuel prices in Kenya are often subject to fluctuations and inconsistencies, raising concerns about potential manipulation and unfair pricing practices. Consumers and regulators require insights into these dynamics for better transparency and market regulation.\r\n",
    "Objective: Utilize a Kenyan fuel price dataset to develop a data analysis model that can identify patterns and anomalies suggestive of fuel price manipulation and price gouging.\r\n",
    "</p>"
   ]
  },
  {
   "cell_type": "markdown",
   "id": "3aa6f7fa-3e11-4ad7-ab57-991a8c056fe2",
   "metadata": {},
   "source": [
    "## Importing Libraries"
   ]
  },
  {
   "cell_type": "code",
   "execution_count": 1,
   "id": "b2f1d388-c75e-48d3-964b-e392bea23da5",
   "metadata": {},
   "outputs": [],
   "source": [
    "import pandas as pd\n",
    "import numpy as np\n",
    "import matplotlib.pyplot as plt\n",
    "import seaborn as sns\n",
    "import sklearn"
   ]
  },
  {
   "cell_type": "code",
   "execution_count": 2,
   "id": "966eb9fa-74e0-4084-a57a-b39577911a67",
   "metadata": {},
   "outputs": [
    {
     "data": {
      "text/html": [
       "<div>\n",
       "<style scoped>\n",
       "    .dataframe tbody tr th:only-of-type {\n",
       "        vertical-align: middle;\n",
       "    }\n",
       "\n",
       "    .dataframe tbody tr th {\n",
       "        vertical-align: top;\n",
       "    }\n",
       "\n",
       "    .dataframe thead th {\n",
       "        text-align: right;\n",
       "    }\n",
       "</style>\n",
       "<table border=\"1\" class=\"dataframe\">\n",
       "  <thead>\n",
       "    <tr style=\"text-align: right;\">\n",
       "      <th></th>\n",
       "      <th>Price Commencement Date</th>\n",
       "      <th>Premium Motor Spirit (PMS)/Super Petrol (KES/Litre)</th>\n",
       "      <th>Automotive Gas Oil (AGO)/Diesel (KES/Litre)</th>\n",
       "      <th>Illuminating Kerosene (IK)/Kerosene (KES/Litre)</th>\n",
       "      <th>Mean Exchange Rate</th>\n",
       "      <th>Murban Crude Oil Prices ($ per barrel)</th>\n",
       "      <th>Murban Crude Oil Prices (KES/Litre)</th>\n",
       "    </tr>\n",
       "  </thead>\n",
       "  <tbody>\n",
       "    <tr>\n",
       "      <th>0</th>\n",
       "      <td>15/12/2010</td>\n",
       "      <td>94.03</td>\n",
       "      <td>87.45</td>\n",
       "      <td>75.83</td>\n",
       "      <td>80.57</td>\n",
       "      <td>89.15</td>\n",
       "      <td>45.18</td>\n",
       "    </tr>\n",
       "    <tr>\n",
       "      <th>1</th>\n",
       "      <td>15/01/2011</td>\n",
       "      <td>95.67</td>\n",
       "      <td>88.71</td>\n",
       "      <td>77.51</td>\n",
       "      <td>81.03</td>\n",
       "      <td>89.17</td>\n",
       "      <td>45.45</td>\n",
       "    </tr>\n",
       "    <tr>\n",
       "      <th>2</th>\n",
       "      <td>15/02/2011</td>\n",
       "      <td>98.08</td>\n",
       "      <td>91.72</td>\n",
       "      <td>79.52</td>\n",
       "      <td>81.47</td>\n",
       "      <td>88.58</td>\n",
       "      <td>45.39</td>\n",
       "    </tr>\n",
       "    <tr>\n",
       "      <th>3</th>\n",
       "      <td>15/03/2011</td>\n",
       "      <td>102.44</td>\n",
       "      <td>94.53</td>\n",
       "      <td>83.97</td>\n",
       "      <td>84.21</td>\n",
       "      <td>102.86</td>\n",
       "      <td>54.48</td>\n",
       "    </tr>\n",
       "    <tr>\n",
       "      <th>4</th>\n",
       "      <td>15/04/2011</td>\n",
       "      <td>111.17</td>\n",
       "      <td>107.52</td>\n",
       "      <td>90.91</td>\n",
       "      <td>83.89</td>\n",
       "      <td>109.53</td>\n",
       "      <td>57.79</td>\n",
       "    </tr>\n",
       "  </tbody>\n",
       "</table>\n",
       "</div>"
      ],
      "text/plain": [
       "  Price Commencement Date  \\\n",
       "0              15/12/2010   \n",
       "1              15/01/2011   \n",
       "2              15/02/2011   \n",
       "3              15/03/2011   \n",
       "4              15/04/2011   \n",
       "\n",
       "   Premium Motor Spirit (PMS)/Super Petrol (KES/Litre)  \\\n",
       "0                                              94.03     \n",
       "1                                              95.67     \n",
       "2                                              98.08     \n",
       "3                                             102.44     \n",
       "4                                             111.17     \n",
       "\n",
       "   Automotive Gas Oil (AGO)/Diesel (KES/Litre)  \\\n",
       "0                                        87.45   \n",
       "1                                        88.71   \n",
       "2                                        91.72   \n",
       "3                                        94.53   \n",
       "4                                       107.52   \n",
       "\n",
       "    Illuminating Kerosene (IK)/Kerosene (KES/Litre)  Mean Exchange Rate  \\\n",
       "0                                             75.83               80.57   \n",
       "1                                             77.51               81.03   \n",
       "2                                             79.52               81.47   \n",
       "3                                             83.97               84.21   \n",
       "4                                             90.91               83.89   \n",
       "\n",
       "   Murban Crude Oil Prices ($ per barrel)  Murban Crude Oil Prices (KES/Litre)  \n",
       "0                                   89.15                                45.18  \n",
       "1                                   89.17                                45.45  \n",
       "2                                   88.58                                45.39  \n",
       "3                                  102.86                                54.48  \n",
       "4                                  109.53                                57.79  "
      ]
     },
     "execution_count": 2,
     "metadata": {},
     "output_type": "execute_result"
    }
   ],
   "source": [
    "df=pd.read_csv(r\"C:\\Users\\DATA-JOHN\\Desktop\\Fuel Prices\\Fuel Prices in Kenya since 2010 - Sheet1.csv\")\n",
    "\n",
    "df.head()"
   ]
  },
  {
   "cell_type": "markdown",
   "id": "350c0203-9bb6-45e1-89e5-0f7545391f80",
   "metadata": {},
   "source": [
    "## Data Exploration"
   ]
  },
  {
   "cell_type": "code",
   "execution_count": 3,
   "id": "0c1f0326-c755-4b2b-8abe-80288788c0ab",
   "metadata": {},
   "outputs": [],
   "source": [
    "#renaming columns\n",
    "df=df.rename(columns={'Premium Motor Spirit (PMS)/Super Petrol (KES/Litre)':'Super Petrol (KES/Litre)',\n",
    "                   'Automotive Gas Oil (AGO)/Diesel (KES/Litre)':'Diesel (KES/Litre)',\n",
    "                   ' Illuminating Kerosene (IK)/Kerosene (KES/Litre)':'Kerosene (KES/Litre)',\n",
    "                   'Murban Crude Oil Prices ($ per barrel)':'Crude Oil Prices ($ per barrel)',\n",
    "                   'Murban Crude Oil Prices (KES/Litre)':'Crude Oil Prices (KES/Litre)'})\n"
   ]
  },
  {
   "cell_type": "code",
   "execution_count": 4,
   "id": "a89361cb-0309-405a-a455-2b33bb19ee4f",
   "metadata": {},
   "outputs": [
    {
     "data": {
      "text/plain": [
       "Price Commencement Date            0\n",
       "Super Petrol (KES/Litre)           0\n",
       "Diesel (KES/Litre)                 0\n",
       "Kerosene (KES/Litre)               0\n",
       "Mean Exchange Rate                 1\n",
       "Crude Oil Prices ($ per barrel)    1\n",
       "Crude Oil Prices (KES/Litre)       1\n",
       "dtype: int64"
      ]
     },
     "execution_count": 4,
     "metadata": {},
     "output_type": "execute_result"
    }
   ],
   "source": [
    "#checking missing data\n",
    "df.isna().sum()"
   ]
  },
  {
   "cell_type": "code",
   "execution_count": 5,
   "id": "708bd0fb-63be-44c7-b79c-85915c712c86",
   "metadata": {},
   "outputs": [],
   "source": [
    "df=df.dropna()"
   ]
  },
  {
   "cell_type": "code",
   "execution_count": 6,
   "id": "2c4f9e44-5263-4bc3-b768-becdd67e5fd7",
   "metadata": {},
   "outputs": [
    {
     "data": {
      "text/plain": [
       "Price Commencement Date             object\n",
       "Super Petrol (KES/Litre)           float64\n",
       "Diesel (KES/Litre)                 float64\n",
       "Kerosene (KES/Litre)               float64\n",
       "Mean Exchange Rate                 float64\n",
       "Crude Oil Prices ($ per barrel)    float64\n",
       "Crude Oil Prices (KES/Litre)       float64\n",
       "dtype: object"
      ]
     },
     "execution_count": 6,
     "metadata": {},
     "output_type": "execute_result"
    }
   ],
   "source": [
    "#checking column data types\n",
    "df.dtypes"
   ]
  },
  {
   "cell_type": "code",
   "execution_count": 7,
   "id": "59ef13e8-e343-47e6-b0b2-597a02cce8b6",
   "metadata": {
    "scrolled": true
   },
   "outputs": [],
   "source": [
    "df['Price Commencement Date'] = pd.to_datetime(df['Price Commencement Date'], format='%d/%m/%Y')"
   ]
  },
  {
   "cell_type": "code",
   "execution_count": 8,
   "id": "429e24f0-2830-421c-9632-23358d8d731b",
   "metadata": {},
   "outputs": [
    {
     "data": {
      "text/plain": [
       "Price Commencement Date            datetime64[ns]\n",
       "Super Petrol (KES/Litre)                  float64\n",
       "Diesel (KES/Litre)                        float64\n",
       "Kerosene (KES/Litre)                      float64\n",
       "Mean Exchange Rate                        float64\n",
       "Crude Oil Prices ($ per barrel)           float64\n",
       "Crude Oil Prices (KES/Litre)              float64\n",
       "dtype: object"
      ]
     },
     "execution_count": 8,
     "metadata": {},
     "output_type": "execute_result"
    }
   ],
   "source": [
    "df.dtypes"
   ]
  },
  {
   "cell_type": "code",
   "execution_count": 9,
   "id": "d5e7383c-6d20-4233-8a8e-585c54f6429a",
   "metadata": {},
   "outputs": [
    {
     "data": {
      "image/png": "[encoded data removed]",
      "text/plain": [
       "<Figure size 640x480 with 2 Axes>"
      ]
     },
     "metadata": {},
     "output_type": "display_data"
    }
   ],
   "source": [
    "#checking columns correlation\n",
    "matrix = df.corr(numeric_only=True).round(2)\n",
    "sns.heatmap(matrix, annot=True)\n",
    "plt.show()\n"
   ]
  },
  {
   "cell_type": "code",
   "execution_count": 10,
   "id": "c4c934de-5240-4864-857d-ffa32ab3797c",
   "metadata": {},
   "outputs": [
    {
     "name": "stdout",
     "output_type": "stream",
     "text": [
      "Index(['Price Commencement Date', 'Super Petrol (KES/Litre)',\n",
      "       'Diesel (KES/Litre)', 'Kerosene (KES/Litre)', 'Mean Exchange Rate',\n",
      "       'Crude Oil Prices ($ per barrel)', 'Crude Oil Prices (KES/Litre)'],\n",
      "      dtype='object')\n"
     ]
    }
   ],
   "source": [
    "print(df.columns)"
   ]
  },
  {
   "cell_type": "code",
   "execution_count": 11,
   "id": "4ff961d3-6a24-4eba-bab7-1a03b7a07ca1",
   "metadata": {},
   "outputs": [],
   "source": [
    "df.drop(columns=[\"Crude Oil Prices ($ per barrel)\",\"Price Commencement Date\"], inplace=True)"
   ]
  },
  {
   "cell_type": "code",
   "execution_count": 12,
   "id": "aa96eb05-69f5-418c-9ed0-5a122b3ff482",
   "metadata": {},
   "outputs": [
    {
     "data": {
      "text/plain": [
       "Super Petrol (KES/Litre)        0\n",
       "Diesel (KES/Litre)              0\n",
       "Kerosene (KES/Litre)            0\n",
       "Mean Exchange Rate              0\n",
       "Crude Oil Prices (KES/Litre)    0\n",
       "dtype: int64"
      ]
     },
     "execution_count": 12,
     "metadata": {},
     "output_type": "execute_result"
    }
   ],
   "source": [
    "df.isna().sum()"
   ]
  },
  {
   "cell_type": "code",
   "execution_count": 13,
   "id": "e20714ec-930b-4755-a357-dcf754d84f25",
   "metadata": {},
   "outputs": [
    {
     "data": {
      "text/html": [
       "<div>\n",
       "<style scoped>\n",
       "    .dataframe tbody tr th:only-of-type {\n",
       "        vertical-align: middle;\n",
       "    }\n",
       "\n",
       "    .dataframe tbody tr th {\n",
       "        vertical-align: top;\n",
       "    }\n",
       "\n",
       "    .dataframe thead th {\n",
       "        text-align: right;\n",
       "    }\n",
       "</style>\n",
       "<table border=\"1\" class=\"dataframe\">\n",
       "  <thead>\n",
       "    <tr style=\"text-align: right;\">\n",
       "      <th></th>\n",
       "      <th>Super Petrol (KES/Litre)</th>\n",
       "      <th>Diesel (KES/Litre)</th>\n",
       "      <th>Kerosene (KES/Litre)</th>\n",
       "      <th>Mean Exchange Rate</th>\n",
       "      <th>Crude Oil Prices (KES/Litre)</th>\n",
       "    </tr>\n",
       "  </thead>\n",
       "  <tbody>\n",
       "    <tr>\n",
       "      <th>count</th>\n",
       "      <td>156.000000</td>\n",
       "      <td>156.000000</td>\n",
       "      <td>156.000000</td>\n",
       "      <td>156.000000</td>\n",
       "      <td>156.000000</td>\n",
       "    </tr>\n",
       "    <tr>\n",
       "      <th>mean</th>\n",
       "      <td>116.921795</td>\n",
       "      <td>105.686987</td>\n",
       "      <td>90.089872</td>\n",
       "      <td>102.175769</td>\n",
       "      <td>46.676538</td>\n",
       "    </tr>\n",
       "    <tr>\n",
       "      <th>std</th>\n",
       "      <td>27.018611</td>\n",
       "      <td>25.624257</td>\n",
       "      <td>29.563883</td>\n",
       "      <td>15.491132</td>\n",
       "      <td>15.268060</td>\n",
       "    </tr>\n",
       "    <tr>\n",
       "      <th>min</th>\n",
       "      <td>80.710000</td>\n",
       "      <td>65.700000</td>\n",
       "      <td>39.620000</td>\n",
       "      <td>80.570000</td>\n",
       "      <td>11.850000</td>\n",
       "    </tr>\n",
       "    <tr>\n",
       "      <th>25%</th>\n",
       "      <td>101.275000</td>\n",
       "      <td>90.812500</td>\n",
       "      <td>71.420000</td>\n",
       "      <td>88.657500</td>\n",
       "      <td>34.437500</td>\n",
       "    </tr>\n",
       "    <tr>\n",
       "      <th>50%</th>\n",
       "      <td>111.435000</td>\n",
       "      <td>103.250000</td>\n",
       "      <td>84.110000</td>\n",
       "      <td>101.385000</td>\n",
       "      <td>45.940000</td>\n",
       "    </tr>\n",
       "    <tr>\n",
       "      <th>75%</th>\n",
       "      <td>118.207500</td>\n",
       "      <td>108.045000</td>\n",
       "      <td>102.032500</td>\n",
       "      <td>107.662500</td>\n",
       "      <td>54.277500</td>\n",
       "    </tr>\n",
       "    <tr>\n",
       "      <th>max</th>\n",
       "      <td>217.360000</td>\n",
       "      <td>205.470000</td>\n",
       "      <td>205.060000</td>\n",
       "      <td>155.640000</td>\n",
       "      <td>89.180000</td>\n",
       "    </tr>\n",
       "  </tbody>\n",
       "</table>\n",
       "</div>"
      ],
      "text/plain": [
       "       Super Petrol (KES/Litre)  Diesel (KES/Litre)  Kerosene (KES/Litre)  \\\n",
       "count                156.000000          156.000000            156.000000   \n",
       "mean                 116.921795          105.686987             90.089872   \n",
       "std                   27.018611           25.624257             29.563883   \n",
       "min                   80.710000           65.700000             39.620000   \n",
       "25%                  101.275000           90.812500             71.420000   \n",
       "50%                  111.435000          103.250000             84.110000   \n",
       "75%                  118.207500          108.045000            102.032500   \n",
       "max                  217.360000          205.470000            205.060000   \n",
       "\n",
       "       Mean Exchange Rate  Crude Oil Prices (KES/Litre)  \n",
       "count          156.000000                    156.000000  \n",
       "mean           102.175769                     46.676538  \n",
       "std             15.491132                     15.268060  \n",
       "min             80.570000                     11.850000  \n",
       "25%             88.657500                     34.437500  \n",
       "50%            101.385000                     45.940000  \n",
       "75%            107.662500                     54.277500  \n",
       "max            155.640000                     89.180000  "
      ]
     },
     "execution_count": 13,
     "metadata": {},
     "output_type": "execute_result"
    }
   ],
   "source": [
    "df.describe()"
   ]
  },
  {
   "cell_type": "markdown",
   "id": "d2ac1b89-80fa-4e85-853f-af3acc6132a8",
   "metadata": {},
   "source": [
    "## Model Building"
   ]
  },
  {
   "cell_type": "code",
   "execution_count": 14,
   "id": "52c23040-d7da-4f05-bba1-fb0a95d83a20",
   "metadata": {},
   "outputs": [
    {
     "data": {
      "image/png": "[encoded data removed]",
      "text/plain": [
       "<Figure size 640x480 with 1 Axes>"
      ]
     },
     "metadata": {},
     "output_type": "display_data"
    }
   ],
   "source": [
    "from sklearn.preprocessing import StandardScaler\n",
    "from sklearn.model_selection import cross_val_score, KFold, train_test_split\n",
    "from sklearn.multioutput import MultiOutputRegressor\n",
    "from sklearn.linear_model import LinearRegression \n",
    "from sklearn.neighbors import KNeighborsRegressor\n",
    "from sklearn.tree import DecisionTreeRegressor\n",
    "from sklearn.ensemble import RandomForestRegressor\n",
    "\n",
    "\n",
    "import numpy as np\n",
    "\n",
    "# Assuming df is your DataFrame containing the relevant data\n",
    "\n",
    "# Extracting input features (X)\n",
    "x = df[['Mean Exchange Rate', 'Crude Oil Prices (KES/Litre)']].values\n",
    "\n",
    "# Extracting target variables (y)\n",
    "y = df[['Super Petrol (KES/Litre)', 'Diesel (KES/Litre)', 'Kerosene (KES/Litre)']].values\n",
    "\n",
    "# Check the lengths of x and y\n",
    "#print(\"Length of x:\", len(x))\n",
    "#print(\"Length of y:\", len(y))\n",
    "\n",
    "# Splitting the data\n",
    "x_train, x_test, y_train, y_test = train_test_split(x, y, random_state=42)\n",
    "\n",
    "scaler = StandardScaler()\n",
    "x_train_scaled = scaler.fit_transform(x_train)\n",
    "x_test_scaled = scaler.transform(x_test)\n",
    "\n",
    "# Initialize the regressor (e.g., Linear Regression) for multi-output regression\n",
    "regressor = {\n",
    "    'Linear Regression': LinearRegression(),\n",
    "    'KNN': KNeighborsRegressor(),\n",
    "    'Decision Tree': DecisionTreeRegressor(),\n",
    "    'Random Forest': RandomForestRegressor()\n",
    "}\n",
    "\n",
    "# Wrap the regressor in MultiOutputRegressor for multi-output regression\n",
    "multi_output_regressor = MultiOutputRegressor(LinearRegression())  # Example base estimator, replace with appropriate one\n",
    "multi_output_regressor.estimators = list(regressor.values())\n",
    "\n",
    "# Fit the multi-output regressor\n",
    "multi_output_regressor.fit(x_train_scaled, y_train)\n",
    "\n",
    "results = []\n",
    "# Evaluate the multi-output regressor using cross-validation\n",
    "for model in regressor.values():\n",
    "    kf = KFold(n_splits=6, random_state=42, shuffle=True)\n",
    "    cv_results = cross_val_score(model, x_train_scaled, y_train, cv=kf)\n",
    "    results.append(cv_results)\n",
    "\n",
    "results_transposed = list(zip(*results))\n",
    "\n",
    "# Convert results to DataFrame\n",
    "results_df = pd.DataFrame(results_transposed, columns=regressor.keys())\n",
    "\n",
    "# Plotting the results\n",
    "sns.barplot(data=results_df)\n",
    "plt.show()"
   ]
  },
  {
   "cell_type": "code",
   "execution_count": 15,
   "id": "ae407841-7dd9-44ca-a4a4-cc1725979b00",
   "metadata": {},
   "outputs": [
    {
     "name": "stdout",
     "output_type": "stream",
     "text": [
      "Linear Regression Test set Accurecy:0.8506582696411608\n",
      "KNN Test set Accurecy:0.9326290744407076\n",
      "Decision Tree Test set Accurecy:0.859819620282651\n",
      "Random Forest Test set Accurecy:0.929016797259041\n"
     ]
    }
   ],
   "source": [
    "for name, model in regressor.items():\n",
    "    model.fit(x_train_scaled,y_train)\n",
    "    test_score=model.score(x_test_scaled,y_test)\n",
    "    print(\"{} Test set Accurecy:{}\".format(name,test_score))"
   ]
  },
  {
   "cell_type": "code",
   "execution_count": null,
   "id": "3f829bf2-f786-4563-b42e-ba8c6e03e6fe",
   "metadata": {},
   "outputs": [],
   "source": []
  }
 ],
 "metadata": {
  "kernelspec": {
   "display_name": "Python 3 (ipykernel)",
   "language": "python",
   "name": "python3"
  },
  "language_info": {
   "codemirror_mode": {
    "name": "ipython",
    "version": 3
   },
   "file_extension": ".py",
   "mimetype": "text/x-python",
   "name": "python",
   "nbconvert_exporter": "python",
   "pygments_lexer": "ipython3",
   "version": "3.10.0"
  }
 },
 "nbformat": 4,
 "nbformat_minor": 5
}
